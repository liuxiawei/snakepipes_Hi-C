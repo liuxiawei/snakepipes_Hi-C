{
 "cells": [
  {
   "cell_type": "code",
   "execution_count": 54,
   "metadata": {},
   "outputs": [],
   "source": [
    "import os\n",
    "import pandas as pd\n",
    "from tqdm import tqdm"
   ]
  },
  {
   "cell_type": "code",
   "execution_count": 44,
   "metadata": {},
   "outputs": [],
   "source": [
    "# # generate params for step02 snakemake file\n",
    "# path = '../fastq'\n",
    "# ls = [os.path.join(path, i) for i in os.listdir(path)]\n",
    "# ls.sort()\n",
    "# ls"
   ]
  },
  {
   "cell_type": "code",
   "execution_count": 45,
   "metadata": {},
   "outputs": [],
   "source": [
    "# ls_fq = []\n",
    "# for i in ls:\n",
    "#     ls_this = os.listdir(i)\n",
    "#     ls_this = [i for i in ls_this if '_R1' in i]\n",
    "#     ls_fq.append(os.path.basename(i) + '/' + ls_this[0].split('_R1.fastq.gz')[0])\n",
    "# ls_fq"
   ]
  },
  {
   "cell_type": "markdown",
   "metadata": {},
   "source": [
    "convert hicpro to h5\n",
    "```shell\n",
    "hicConvertFormat \\\n",
    "    -m dixon_2M_10000.matrix \\\n",
    "    --bedFileHicpro dixon_2M_10000_abs.bed \\\n",
    "    --inputFormat hicpro \\\n",
    "    --outputFormat h5 \\\n",
    "    -o matric.h5 \\\n",
    "    --resolutions 10000\n",
    "```"
   ]
  },
  {
   "cell_type": "code",
   "execution_count": 46,
   "metadata": {},
   "outputs": [
    {
     "data": {
      "text/plain": [
       "['../out_dir/hic_results/matrix/dixon_2M',\n",
       " '../out_dir/hic_results/matrix/dixon_2M_2']"
      ]
     },
     "execution_count": 46,
     "metadata": {},
     "output_type": "execute_result"
    }
   ],
   "source": [
    "path = '../out_dir/hic_results/matrix/'\n",
    "ls = [os.path.join(path, i) for i in os.listdir(path)]\n",
    "ls.sort()\n",
    "ls"
   ]
  },
  {
   "cell_type": "code",
   "execution_count": 47,
   "metadata": {},
   "outputs": [],
   "source": [
    "ls_matrix = []\n",
    "ls_bed = []\n",
    "for i in ls:\n",
    "    basename = os.path.basename(i) # dixon_2M\n",
    "    path = os.path.join(i, 'raw') # ../out_dir/hic_results/matrix/dixon_2M/raw\n",
    "    \n",
    "    ls_this_dir = os.listdir(path)\n",
    "    # sort\n",
    "    ls_this_dir = list(map(int, ls_this_dir))\n",
    "    ls_this_dir.sort()\n",
    "    ls_this_dir = list(map(str, ls_this_dir))\n",
    "    \n",
    "    ls_this_dir = [os.path.join(path, bin_) for bin_ in ls_this_dir] # ../out_dir/hic_results/matrix/dixon_2M/raw/5000\n",
    "    ls_this_dir_bed = [os.path.join(path, basename + '_' + os.path.basename(path) + '_abs.bed') for path in ls_this_dir]\n",
    "    ls_this_dir_matrix = [os.path.join(path, basename + '_' + os.path.basename(path) + '.matrix') for path in ls_this_dir]\n",
    "    ls_bed.extend(ls_this_dir_bed)\n",
    "    ls_matrix.extend(ls_this_dir_matrix)"
   ]
  },
  {
   "cell_type": "code",
   "execution_count": 48,
   "metadata": {},
   "outputs": [],
   "source": [
    "# ls_matrix"
   ]
  },
  {
   "cell_type": "code",
   "execution_count": 49,
   "metadata": {},
   "outputs": [],
   "source": [
    "# ls_bed"
   ]
  },
  {
   "cell_type": "code",
   "execution_count": 50,
   "metadata": {},
   "outputs": [],
   "source": [
    "# # for test\n",
    "# matrix = ls_matrix[0]\n",
    "# bed = ls_bed[0]\n",
    "# cmd = \"\"\"hicConvertFormat \\\n",
    "#     -m {matrix} \\\n",
    "#     --bedFileHicpro {bed} \\\n",
    "#     --inputFormat hicpro \\\n",
    "#     --outputFormat h5 \\\n",
    "#     -o {h5} \\\n",
    "#     --resolutions {resolution}\"\"\".format(\n",
    "#     matrix=matrix,\n",
    "#     bed=bed,\n",
    "#     h5=matrix.replace('matrix', 'h5'),\n",
    "#     resolution=matrix.split('/raw/')[1].split('/')[0]\n",
    "# )\n",
    "# cmd"
   ]
  },
  {
   "cell_type": "code",
   "execution_count": 51,
   "metadata": {},
   "outputs": [
    {
     "data": {
      "text/plain": [
       "<generator object <genexpr> at 0x2b8077785580>"
      ]
     },
     "execution_count": 51,
     "metadata": {},
     "output_type": "execute_result"
    }
   ],
   "source": [
    "ls_cmd = []\n",
    "for idx in range(len(ls_matrix)):\n",
    "    matrix = ls_matrix[idx]\n",
    "    bed = ls_bed[idx]\n",
    "    cmd = \"hicConvertFormat -m {matrix} --bedFileHicpro {bed} --inputFormat hicpro --outputFormat h5 -o {h5} --resolutions {resolution}\".format(\n",
    "        matrix=matrix,\n",
    "        bed=bed,\n",
    "        h5=matrix.replace('.matrix', '.h5'),\n",
    "        resolution=matrix.split('/raw/')[1].split('/')[0]\n",
    "    )\n",
    "    ls_cmd.append(cmd)\n",
    "g_cmd = (cmd for cmd in ls_cmd)\n",
    "g_cmd"
   ]
  },
  {
   "cell_type": "code",
   "execution_count": 58,
   "metadata": {},
   "outputs": [
    {
     "data": {
      "text/html": [
       "<div>\n",
       "<style scoped>\n",
       "    .dataframe tbody tr th:only-of-type {\n",
       "        vertical-align: middle;\n",
       "    }\n",
       "\n",
       "    .dataframe tbody tr th {\n",
       "        vertical-align: top;\n",
       "    }\n",
       "\n",
       "    .dataframe thead th {\n",
       "        text-align: right;\n",
       "    }\n",
       "</style>\n",
       "<table border=\"1\" class=\"dataframe\">\n",
       "  <thead>\n",
       "    <tr style=\"text-align: right;\">\n",
       "      <th></th>\n",
       "      <th>0</th>\n",
       "      <th>1</th>\n",
       "    </tr>\n",
       "  </thead>\n",
       "  <tbody>\n",
       "    <tr>\n",
       "      <th>0</th>\n",
       "      <td>hicConvertFormat -m ../out_dir/hic_results/mat...</td>\n",
       "      <td>\\nsleep 1\\n</td>\n",
       "    </tr>\n",
       "    <tr>\n",
       "      <th>1</th>\n",
       "      <td>hicConvertFormat -m ../out_dir/hic_results/mat...</td>\n",
       "      <td>\\nsleep 1\\n</td>\n",
       "    </tr>\n",
       "    <tr>\n",
       "      <th>2</th>\n",
       "      <td>hicConvertFormat -m ../out_dir/hic_results/mat...</td>\n",
       "      <td>\\nsleep 1\\n</td>\n",
       "    </tr>\n",
       "    <tr>\n",
       "      <th>3</th>\n",
       "      <td>hicConvertFormat -m ../out_dir/hic_results/mat...</td>\n",
       "      <td>\\nsleep 1\\n</td>\n",
       "    </tr>\n",
       "    <tr>\n",
       "      <th>4</th>\n",
       "      <td>hicConvertFormat -m ../out_dir/hic_results/mat...</td>\n",
       "      <td>\\nsleep 1\\n</td>\n",
       "    </tr>\n",
       "    <tr>\n",
       "      <th>5</th>\n",
       "      <td>hicConvertFormat -m ../out_dir/hic_results/mat...</td>\n",
       "      <td>\\nsleep 1\\n</td>\n",
       "    </tr>\n",
       "    <tr>\n",
       "      <th>6</th>\n",
       "      <td>hicConvertFormat -m ../out_dir/hic_results/mat...</td>\n",
       "      <td>\\nsleep 1\\n</td>\n",
       "    </tr>\n",
       "    <tr>\n",
       "      <th>7</th>\n",
       "      <td>hicConvertFormat -m ../out_dir/hic_results/mat...</td>\n",
       "      <td>\\nsleep 1\\n</td>\n",
       "    </tr>\n",
       "    <tr>\n",
       "      <th>8</th>\n",
       "      <td>hicConvertFormat -m ../out_dir/hic_results/mat...</td>\n",
       "      <td>\\nsleep 1\\n</td>\n",
       "    </tr>\n",
       "    <tr>\n",
       "      <th>9</th>\n",
       "      <td>hicConvertFormat -m ../out_dir/hic_results/mat...</td>\n",
       "      <td>\\nsleep 1\\n</td>\n",
       "    </tr>\n",
       "    <tr>\n",
       "      <th>10</th>\n",
       "      <td>hicConvertFormat -m ../out_dir/hic_results/mat...</td>\n",
       "      <td>\\nsleep 1\\n</td>\n",
       "    </tr>\n",
       "    <tr>\n",
       "      <th>11</th>\n",
       "      <td>hicConvertFormat -m ../out_dir/hic_results/mat...</td>\n",
       "      <td>\\nsleep 1\\n</td>\n",
       "    </tr>\n",
       "    <tr>\n",
       "      <th>12</th>\n",
       "      <td>hicConvertFormat -m ../out_dir/hic_results/mat...</td>\n",
       "      <td>\\nsleep 1\\n</td>\n",
       "    </tr>\n",
       "    <tr>\n",
       "      <th>13</th>\n",
       "      <td>hicConvertFormat -m ../out_dir/hic_results/mat...</td>\n",
       "      <td>\\nsleep 1\\n</td>\n",
       "    </tr>\n",
       "    <tr>\n",
       "      <th>14</th>\n",
       "      <td>hicConvertFormat -m ../out_dir/hic_results/mat...</td>\n",
       "      <td>\\nsleep 1\\n</td>\n",
       "    </tr>\n",
       "    <tr>\n",
       "      <th>15</th>\n",
       "      <td>hicConvertFormat -m ../out_dir/hic_results/mat...</td>\n",
       "      <td>\\nsleep 1\\n</td>\n",
       "    </tr>\n",
       "  </tbody>\n",
       "</table>\n",
       "</div>"
      ],
      "text/plain": [
       "                                                    0            1\n",
       "0   hicConvertFormat -m ../out_dir/hic_results/mat...  \\nsleep 1\\n\n",
       "1   hicConvertFormat -m ../out_dir/hic_results/mat...  \\nsleep 1\\n\n",
       "2   hicConvertFormat -m ../out_dir/hic_results/mat...  \\nsleep 1\\n\n",
       "3   hicConvertFormat -m ../out_dir/hic_results/mat...  \\nsleep 1\\n\n",
       "4   hicConvertFormat -m ../out_dir/hic_results/mat...  \\nsleep 1\\n\n",
       "5   hicConvertFormat -m ../out_dir/hic_results/mat...  \\nsleep 1\\n\n",
       "6   hicConvertFormat -m ../out_dir/hic_results/mat...  \\nsleep 1\\n\n",
       "7   hicConvertFormat -m ../out_dir/hic_results/mat...  \\nsleep 1\\n\n",
       "8   hicConvertFormat -m ../out_dir/hic_results/mat...  \\nsleep 1\\n\n",
       "9   hicConvertFormat -m ../out_dir/hic_results/mat...  \\nsleep 1\\n\n",
       "10  hicConvertFormat -m ../out_dir/hic_results/mat...  \\nsleep 1\\n\n",
       "11  hicConvertFormat -m ../out_dir/hic_results/mat...  \\nsleep 1\\n\n",
       "12  hicConvertFormat -m ../out_dir/hic_results/mat...  \\nsleep 1\\n\n",
       "13  hicConvertFormat -m ../out_dir/hic_results/mat...  \\nsleep 1\\n\n",
       "14  hicConvertFormat -m ../out_dir/hic_results/mat...  \\nsleep 1\\n\n",
       "15  hicConvertFormat -m ../out_dir/hic_results/mat...  \\nsleep 1\\n"
      ]
     },
     "execution_count": 58,
     "metadata": {},
     "output_type": "execute_result"
    }
   ],
   "source": [
    "# for cmd in tqdm(g_cmd):\n",
    "#     status = os.system(cmd)\n",
    "#     if status !=0:\n",
    "#         print('Error')\n",
    "#         break\n",
    "df = pd.DataFrame(ls_cmd)\n",
    "df['1'] = '\\nsleep 1\\n'\n",
    "df."
   ]
  },
  {
   "cell_type": "code",
   "execution_count": 17,
   "metadata": {},
   "outputs": [
    {
     "data": {
      "text/plain": [
       "<generator object <genexpr> at 0x2b8077837b30>"
      ]
     },
     "execution_count": 17,
     "metadata": {},
     "output_type": "execute_result"
    }
   ],
   "source": [
    "# normalize\n",
    "ls_cmd = []\n",
    "for idx in range(len(ls_matrix)):\n",
    "    matrix = ls_matrix[idx]\n",
    "    bed = ls_bed[idx]\n",
    "    cmd = \"hicNormalize -m {h5} --normalize norm_range -o {h5nm}\".format(\n",
    "        h5=matrix.replace('.matrix', '.h5'),\n",
    "        h5nm=matrix.replace('.matrix', '.0_1_norm_range.h5'),\n",
    "    )\n",
    "    ls_cmd.append(cmd)\n",
    "ls_cmd\n",
    "g_cmd = (cmd for cmd in ls_cmd)\n",
    "g_cmd"
   ]
  },
  {
   "cell_type": "code",
   "execution_count": 18,
   "metadata": {},
   "outputs": [
    {
     "name": "stderr",
     "output_type": "stream",
     "text": [
      "16it [01:55,  7.24s/it]\n"
     ]
    }
   ],
   "source": [
    "for cmd in tqdm(g_cmd):\n",
    "    status = os.system(cmd)\n",
    "    if status !=0:\n",
    "        print('Error')\n",
    "        break"
   ]
  },
  {
   "cell_type": "code",
   "execution_count": 21,
   "metadata": {},
   "outputs": [
    {
     "data": {
      "text/plain": [
       "<generator object <genexpr> at 0x2b8077847120>"
      ]
     },
     "execution_count": 21,
     "metadata": {},
     "output_type": "execute_result"
    }
   ],
   "source": [
    "# KR 校正\n",
    "# 性能消耗很大考虑集群跑\n",
    "ls_cmd = []\n",
    "for idx in range(len(ls_matrix)):\n",
    "    matrix = ls_matrix[idx]\n",
    "    bed = ls_bed[idx]\n",
    "    cmd = \"hicCorrectMatrix correct -m {h5nm} --correctionMethod KR -o {h5kr}\".format(\n",
    "        h5nm=matrix.replace('.matrix', '.0_1_norm_range.h5'),\n",
    "        h5kr=matrix.replace('.matrix', '.0_1_norm_range_KR_corrected.h5'),\n",
    "    )\n",
    "    ls_cmd.append(cmd)\n",
    "ls_cmd\n",
    "g_cmd = (cmd for cmd in ls_cmd)\n",
    "g_cmd"
   ]
  },
  {
   "cell_type": "code",
   "execution_count": 22,
   "metadata": {},
   "outputs": [
    {
     "name": "stderr",
     "output_type": "stream",
     "text": [
      "0it [00:00, ?it/s]INFO:hicexplorer.hicCorrectMatrix:matrix contains 34 data points. Sparsity 0.000.\n"
     ]
    },
    {
     "name": "stdout",
     "output_type": "stream",
     "text": [
      "normalisation factor is 160.437\n"
     ]
    },
    {
     "name": "stderr",
     "output_type": "stream",
     "text": [
      "1it [00:31, 31.37s/it]INFO:hicexplorer.hicCorrectMatrix:matrix contains 60 data points. Sparsity 0.000.\n"
     ]
    },
    {
     "name": "stdout",
     "output_type": "stream",
     "text": [
      "normalisation factor is 112.683\n"
     ]
    },
    {
     "name": "stderr",
     "output_type": "stream",
     "text": [
      "2it [00:43, 25.66s/it]INFO:hicexplorer.hicCorrectMatrix:matrix contains 144 data points. Sparsity 0.000.\n"
     ]
    },
    {
     "name": "stdout",
     "output_type": "stream",
     "text": [
      "normalisation factor is 54.9001\n"
     ]
    },
    {
     "name": "stderr",
     "output_type": "stream",
     "text": [
      "3it [00:50, 19.86s/it]INFO:hicexplorer.hicCorrectMatrix:matrix contains 434 data points. Sparsity 0.000.\n"
     ]
    },
    {
     "name": "stdout",
     "output_type": "stream",
     "text": [
      "normalisation factor is 22.8078\n"
     ]
    },
    {
     "name": "stderr",
     "output_type": "stream",
     "text": [
      "4it [00:53, 15.04s/it]INFO:hicexplorer.hicCorrectMatrix:matrix contains 1803 data points. Sparsity 0.000.\n",
      "5it [00:56, 11.23s/it]"
     ]
    },
    {
     "name": "stdout",
     "output_type": "stream",
     "text": [
      "normalisation factor is 7.01131\n"
     ]
    },
    {
     "name": "stderr",
     "output_type": "stream",
     "text": [
      "INFO:hicexplorer.hicCorrectMatrix:matrix contains 3416 data points. Sparsity 0.000.\n",
      "6it [00:58,  8.54s/it]"
     ]
    },
    {
     "name": "stdout",
     "output_type": "stream",
     "text": [
      "normalisation factor is 4.67802\n"
     ]
    },
    {
     "name": "stderr",
     "output_type": "stream",
     "text": [
      "INFO:hicexplorer.hicCorrectMatrix:matrix contains 10881 data points. Sparsity 0.000.\n",
      "7it [01:00,  6.48s/it]"
     ]
    },
    {
     "name": "stdout",
     "output_type": "stream",
     "text": [
      "normalisation factor is 1.9929\n"
     ]
    },
    {
     "name": "stderr",
     "output_type": "stream",
     "text": [
      "INFO:hicexplorer.hicCorrectMatrix:matrix contains 12533 data points. Sparsity 0.001.\n",
      "8it [01:01,  5.01s/it]"
     ]
    },
    {
     "name": "stdout",
     "output_type": "stream",
     "text": [
      "normalisation factor is 1.42291\n"
     ]
    },
    {
     "name": "stderr",
     "output_type": "stream",
     "text": [
      "INFO:hicexplorer.hicCorrectMatrix:matrix contains 43 data points. Sparsity 0.000.\n"
     ]
    },
    {
     "name": "stdout",
     "output_type": "stream",
     "text": [
      "normalisation factor is 111.917\n"
     ]
    },
    {
     "name": "stderr",
     "output_type": "stream",
     "text": [
      "9it [01:26, 10.93s/it]INFO:hicexplorer.hicCorrectMatrix:matrix contains 81 data points. Sparsity 0.000.\n"
     ]
    },
    {
     "name": "stdout",
     "output_type": "stream",
     "text": [
      "normalisation factor is 60.6056\n"
     ]
    },
    {
     "name": "stderr",
     "output_type": "stream",
     "text": [
      "10it [01:38, 11.28s/it]INFO:hicexplorer.hicCorrectMatrix:matrix contains 157 data points. Sparsity 0.000.\n"
     ]
    },
    {
     "name": "stdout",
     "output_type": "stream",
     "text": [
      "normalisation factor is 43.5279\n"
     ]
    },
    {
     "name": "stderr",
     "output_type": "stream",
     "text": [
      "11it [01:45,  9.86s/it]INFO:hicexplorer.hicCorrectMatrix:matrix contains 470 data points. Sparsity 0.000.\n"
     ]
    },
    {
     "name": "stdout",
     "output_type": "stream",
     "text": [
      "normalisation factor is 17.9582\n"
     ]
    },
    {
     "name": "stderr",
     "output_type": "stream",
     "text": [
      "12it [01:48,  7.97s/it]INFO:hicexplorer.hicCorrectMatrix:matrix contains 1938 data points. Sparsity 0.000.\n",
      "13it [01:50,  6.23s/it]"
     ]
    },
    {
     "name": "stdout",
     "output_type": "stream",
     "text": [
      "normalisation factor is 6.75803\n"
     ]
    },
    {
     "name": "stderr",
     "output_type": "stream",
     "text": [
      "INFO:hicexplorer.hicCorrectMatrix:matrix contains 3445 data points. Sparsity 0.000.\n",
      "14it [01:52,  4.97s/it]"
     ]
    },
    {
     "name": "stdout",
     "output_type": "stream",
     "text": [
      "normalisation factor is 4.06164\n"
     ]
    },
    {
     "name": "stderr",
     "output_type": "stream",
     "text": [
      "INFO:hicexplorer.hicCorrectMatrix:matrix contains 11014 data points. Sparsity 0.000.\n",
      "15it [01:54,  4.03s/it]"
     ]
    },
    {
     "name": "stdout",
     "output_type": "stream",
     "text": [
      "normalisation factor is 1.88957\n"
     ]
    },
    {
     "name": "stderr",
     "output_type": "stream",
     "text": [
      "INFO:hicexplorer.hicCorrectMatrix:matrix contains 12814 data points. Sparsity 0.001.\n",
      "16it [01:56,  7.27s/it]"
     ]
    },
    {
     "name": "stdout",
     "output_type": "stream",
     "text": [
      "normalisation factor is 1.29095\n"
     ]
    },
    {
     "name": "stderr",
     "output_type": "stream",
     "text": [
      "\n"
     ]
    }
   ],
   "source": [
    "for cmd in tqdm(g_cmd):\n",
    "    status = os.system(cmd)\n",
    "    if status !=0:\n",
    "        print('Error')\n",
    "        break"
   ]
  },
  {
   "cell_type": "code",
   "execution_count": null,
   "metadata": {},
   "outputs": [],
   "source": []
  }
 ],
 "metadata": {
  "kernelspec": {
   "display_name": "Python 3 (ipykernel)",
   "language": "python",
   "name": "python3"
  },
  "language_info": {
   "codemirror_mode": {
    "name": "ipython",
    "version": 3
   },
   "file_extension": ".py",
   "mimetype": "text/x-python",
   "name": "python",
   "nbconvert_exporter": "python",
   "pygments_lexer": "ipython3",
   "version": "3.9.13"
  }
 },
 "nbformat": 4,
 "nbformat_minor": 4
}
