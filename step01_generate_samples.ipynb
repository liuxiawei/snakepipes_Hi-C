{
 "cells": [
  {
   "cell_type": "markdown",
   "id": "a778f205-c737-49dc-aae3-512de5ef483b",
   "metadata": {},
   "source": [
    "# Snakemake版本的HiCPro构建"
   ]
  },
  {
   "cell_type": "markdown",
   "id": "6f1c6c42-73e8-4dac-9b8e-af70409abfb1",
   "metadata": {},
   "source": []
  },
  {
   "cell_type": "code",
   "execution_count": 44,
   "id": "52eb5193-fdff-4df5-b3d0-ef83f68bc1c3",
   "metadata": {
    "execution": {
     "iopub.execute_input": "2022-07-26T19:30:30.334090Z",
     "iopub.status.busy": "2022-07-26T19:30:30.333687Z",
     "iopub.status.idle": "2022-07-26T19:30:30.339958Z",
     "shell.execute_reply": "2022-07-26T19:30:30.338618Z",
     "shell.execute_reply.started": "2022-07-26T19:30:30.334059Z"
    },
    "tags": []
   },
   "outputs": [],
   "source": [
    "import glob\n",
    "import json"
   ]
  },
  {
   "cell_type": "markdown",
   "id": "f9c62db3-203b-4827-9fe5-5861541d8070",
   "metadata": {},
   "source": [
    "## 参数设置"
   ]
  },
  {
   "cell_type": "code",
   "execution_count": 45,
   "id": "daaac4c7-33d7-457b-b525-29db4cb11065",
   "metadata": {
    "execution": {
     "iopub.execute_input": "2022-07-26T19:30:30.742798Z",
     "iopub.status.busy": "2022-07-26T19:30:30.742486Z",
     "iopub.status.idle": "2022-07-26T19:30:30.748264Z",
     "shell.execute_reply": "2022-07-26T19:30:30.746958Z",
     "shell.execute_reply.started": "2022-07-26T19:30:30.742770Z"
    },
    "tags": []
   },
   "outputs": [],
   "source": [
    "thread = 20"
   ]
  },
  {
   "cell_type": "markdown",
   "id": "1c289a77-2bcc-4002-a3be-087f79b759da",
   "metadata": {},
   "source": [
    "bowtie2_index\n",
    "```shell\n",
    "bowtie2-build -f genome_ucsc_mm39.fa genome_ucsc_mm39.fa.bowtie2_index --threads 24\n",
    "```\n",
    "\n",
    "chromosome_size\n",
    "```shell\n",
    "# hg38\n",
    "samtools faidx genome_ucsc_hg38.fa\n",
    "cut -f1-2 genome_ucsc_hg38.fa.fai > chrom_hg38.sizes\n",
    "\n",
    "# mm39\n",
    "samtools faidx genome_ucsc_mm39.fa\n",
    "cut -f1-2 genome_ucsc_mm39.fa.fai > chrom_mm39.sizes\n",
    "```"
   ]
  },
  {
   "cell_type": "code",
   "execution_count": 46,
   "id": "8c76f1b1-714d-4f83-be74-b4f934e202ed",
   "metadata": {
    "execution": {
     "iopub.execute_input": "2022-07-26T19:30:39.242498Z",
     "iopub.status.busy": "2022-07-26T19:30:39.241938Z",
     "iopub.status.idle": "2022-07-26T19:30:39.248782Z",
     "shell.execute_reply": "2022-07-26T19:30:39.247380Z",
     "shell.execute_reply.started": "2022-07-26T19:30:39.242448Z"
    },
    "tags": []
   },
   "outputs": [],
   "source": [
    "# hg38\n",
    "# bowtie2_index = \"/lustre1/chengqiyi_pkuhpc/zhaohn/1.database/db_genomes/genome_fa/genome_ucsc_hg38/genome_ucsc_hg38.fa.bowtie2_index\"\n",
    "# chr_sizes = \"program/HiC-Pro_3.1.0/annotation/chrom_hg38.sizes\"\n",
    "# mm39\n",
    "bowtie2_index = \"/lustre1/chengqiyi_pkuhpc/zhaohn/1.database/db_genomes/genome_fa/genome_ucsc_mm39/genome_ucsc_mm39.fa.bowtie2_index\"\n",
    "chr_sizes = \"program/HiC-Pro_3.1.0/annotation/chrom_mm39.sizes\""
   ]
  },
  {
   "cell_type": "code",
   "execution_count": 47,
   "id": "472c2380-e3fa-4e10-991f-dd71485e2cd5",
   "metadata": {
    "execution": {
     "iopub.execute_input": "2022-07-26T19:30:40.299637Z",
     "iopub.status.busy": "2022-07-26T19:30:40.299002Z",
     "iopub.status.idle": "2022-07-26T19:30:40.309266Z",
     "shell.execute_reply": "2022-07-26T19:30:40.307380Z",
     "shell.execute_reply.started": "2022-07-26T19:30:40.299566Z"
    },
    "tags": []
   },
   "outputs": [],
   "source": [
    "# bowtie2 options for mapping step1.\n",
    "# 比对时采用--reorder参数，确保以fastq完全相同的顺序输出sam文件\n",
    "# Default:\n",
    "#     \"--very-sensitive -L 30 --score-min L,-0.6,-0.2 --end-to-end --reorder\"\n",
    "bowtie2_params_global = (\n",
    "    \"--very-sensitive -L 30 --score-min L,-0.6,-0.2 --end-to-end --reorder\"\n",
    ")\n",
    "\n",
    "# bowtie2 options for mapping step2.\n",
    "# 比对时采用--reorder参数，确保以fastq完全相同的顺序输出sam文件\n",
    "# Default:\n",
    "#     \"--very-sensitive -L 20 --score-min L,-0.6,-0.2 --end-to-end --reorder\"\n",
    "# 采用部分比对参数(--local)，以代替端到端比对(--end-to-end), 因为HiC是嵌合片段，因此使用部分比对提高比对效率\n",
    "# 但是这里仍然要采用endtoend模式\n",
    "# 原因详见 https://groups.google.com/g/hic-pro/c/2K43gMov7FI\n",
    "# 这里还叫local是历史原因，我后面考虑去掉\n",
    "bowtie2_params_local = (\n",
    "    \"--very-sensitive -L 20 --score-min L,-0.6,-0.2 --end-to-end --reorder\"\n",
    ")"
   ]
  },
  {
   "cell_type": "code",
   "execution_count": 48,
   "id": "23c456fe-e340-47f8-b543-a3fd1d2e7137",
   "metadata": {
    "execution": {
     "iopub.execute_input": "2022-07-26T19:30:41.237491Z",
     "iopub.status.busy": "2022-07-26T19:30:41.236862Z",
     "iopub.status.idle": "2022-07-26T19:30:41.244886Z",
     "shell.execute_reply": "2022-07-26T19:30:41.243098Z",
     "shell.execute_reply.started": "2022-07-26T19:30:41.237434Z"
    },
    "tags": []
   },
   "outputs": [],
   "source": [
    "# Ligation site sequence used for reads trimming.\n",
    "# Depends on the fill in strategy.\n",
    "# Example: AAGCTAGCTT\n",
    "# 酶的序列，例如：\n",
    "# HindIII，为AAGCTAGCTT\n",
    "# MboI，为GATCGATC\n",
    "ligation_site = \"AAGCTAGCTT\""
   ]
  },
  {
   "cell_type": "code",
   "execution_count": 49,
   "id": "cba9e303-75c0-4d9d-95f5-8e5c58a5e7a2",
   "metadata": {
    "execution": {
     "iopub.execute_input": "2022-07-26T19:30:42.046491Z",
     "iopub.status.busy": "2022-07-26T19:30:42.045862Z",
     "iopub.status.idle": "2022-07-26T19:30:42.053721Z",
     "shell.execute_reply": "2022-07-26T19:30:42.051983Z",
     "shell.execute_reply.started": "2022-07-26T19:30:42.046433Z"
    },
    "tags": []
   },
   "outputs": [],
   "source": [
    "# samtools sort\n",
    "#   -m INT     Set maximum memory per thread; suffix K/M/G recognized [768M]\n",
    "# sort_ram_per_thread = \"\" # use default setting of samtools sort\n",
    "sort_ram_per_thread = \"\"\n",
    "# sort_ram_per_thread = \"-m 500M\""
   ]
  },
  {
   "cell_type": "code",
   "execution_count": 50,
   "id": "2a5a97f5-6f13-4ee4-9807-0f04f7856a37",
   "metadata": {
    "execution": {
     "iopub.execute_input": "2022-07-26T19:30:43.693570Z",
     "iopub.status.busy": "2022-07-26T19:30:43.692950Z",
     "iopub.status.idle": "2022-07-26T19:30:43.699579Z",
     "shell.execute_reply": "2022-07-26T19:30:43.698170Z",
     "shell.execute_reply.started": "2022-07-26T19:30:43.693513Z"
    },
    "tags": []
   },
   "outputs": [],
   "source": [
    "# form_pairs_bam\n",
    "# mergeSAM.py\n",
    "# Minimum mapping quality. Reads with lower quality are discarded. Default: 0\n",
    "min_mapq = 10"
   ]
  },
  {
   "cell_type": "code",
   "execution_count": 51,
   "id": "fdf7f700-c368-4563-a2ec-becafb981bce",
   "metadata": {
    "execution": {
     "iopub.execute_input": "2022-07-26T19:30:45.106785Z",
     "iopub.status.busy": "2022-07-26T19:30:45.106145Z",
     "iopub.status.idle": "2022-07-26T19:30:45.116899Z",
     "shell.execute_reply": "2022-07-26T19:30:45.115223Z",
     "shell.execute_reply.started": "2022-07-26T19:30:45.106727Z"
    },
    "tags": []
   },
   "outputs": [],
   "source": [
    "# form matrix of different bin size\n",
    "\n",
    "#######################################################################\n",
    "## Contact Maps\n",
    "#######################################################################\n",
    "# Resolution of contact maps to generate\n",
    "# Default: 20_000 40_000 150_000 500_000 1_000_000\n",
    "\n",
    "# For compartment: 10mb~100mb\n",
    "# For TAD: 100kb~10mb\n",
    "# For functional loops: 10kb~100kb\n",
    "# For nucleosome clutches: 1kb~2kb\n",
    "\n",
    "#######################################################################\n",
    "bin_sizes = [\n",
    "    # For nucleosome clutches: 1kb~2kb\n",
    "    1_000,\n",
    "    2_000,\n",
    "    5_000,\n",
    "    # For functional loops: 10kb~100kb\n",
    "    10_000,\n",
    "    20_000,\n",
    "    50_000,\n",
    "    100_000,\n",
    "    # For TAD: 100kb~10mb\n",
    "    200_000,\n",
    "    500_000,\n",
    "    1_000_000,\n",
    "    # For compartment: 10mb~100mb\n",
    "    10_000_000,\n",
    "    50_000_000,\n",
    "    100_000_000,\n",
    "]"
   ]
  },
  {
   "cell_type": "markdown",
   "id": "b68600ff-bc7a-46fb-bfad-cb9bf7191086",
   "metadata": {},
   "source": [
    "## 生成samples.json"
   ]
  },
  {
   "cell_type": "code",
   "execution_count": 52,
   "id": "03166e49-7d98-40f0-b5b6-ba331f740d38",
   "metadata": {
    "execution": {
     "iopub.execute_input": "2022-07-26T19:30:48.486459Z",
     "iopub.status.busy": "2022-07-26T19:30:48.485837Z",
     "iopub.status.idle": "2022-07-26T19:30:48.503239Z",
     "shell.execute_reply": "2022-07-26T19:30:48.501715Z",
     "shell.execute_reply.started": "2022-07-26T19:30:48.486402Z"
    },
    "tags": []
   },
   "outputs": [
    {
     "data": {
      "text/plain": [
       "['Hi-C_auxin-2days_rep1',\n",
       " 'Hi-C_auxin-2days_rep2',\n",
       " 'Hi-C_untreated_rep1',\n",
       " 'Hi-C_untreated_rep2',\n",
       " 'Hi-C_washoff-2days_rep1',\n",
       " 'Hi-C_washoff-2days_rep2',\n",
       " 'SRR400264_00',\n",
       " 'SRR400264_01']"
      ]
     },
     "execution_count": 52,
     "metadata": {},
     "output_type": "execute_result"
    }
   ],
   "source": [
    "ls = glob.glob(\"../fastq/*.fastq.gz\")\n",
    "ls.sort()\n",
    "assert ls != []  # 需要非空\n",
    "# 默认 HiC是双端测序\n",
    "ls_pe = [i for i in ls if i.endswith(\"R1.fastq.gz\")]\n",
    "\n",
    "if ls_pe:\n",
    "    ls_sample = [i.split(\"/\")[-1].split(\"_R1.fastq\")[0] for i in ls_pe]\n",
    "    end_type = \"PE\"\n",
    "ls_sample"
   ]
  },
  {
   "cell_type": "code",
   "execution_count": 53,
   "id": "9f8bc7e0-52ec-4e76-828c-e3a18f0987c8",
   "metadata": {
    "execution": {
     "iopub.execute_input": "2022-07-26T19:31:03.083585Z",
     "iopub.status.busy": "2022-07-26T19:31:03.082928Z",
     "iopub.status.idle": "2022-07-26T19:31:03.089855Z",
     "shell.execute_reply": "2022-07-26T19:31:03.088365Z",
     "shell.execute_reply.started": "2022-07-26T19:31:03.083518Z"
    },
    "tags": []
   },
   "outputs": [],
   "source": [
    "# for test and select\n",
    "# ls_sample = [\n",
    "# \"Hi-C_auxin-2days_rep1\",\n",
    "# \"Hi-C_auxin-2days_rep2\",\n",
    "# \"Hi-C_untreated_rep1\",\n",
    "# \"Hi-C_untreated_rep2\",\n",
    "# \"Hi-C_washoff-2days_rep1\",\n",
    "# \"Hi-C_washoff-2days_rep2\",\n",
    "# \"SRR400264_00\",  # for test\n",
    "# \"SRR400264_01\",  # for test\n",
    "# ]"
   ]
  },
  {
   "cell_type": "code",
   "execution_count": 54,
   "id": "35072afb-e5ac-4f30-953e-d563f9af26e1",
   "metadata": {
    "execution": {
     "iopub.execute_input": "2022-07-26T19:31:04.999757Z",
     "iopub.status.busy": "2022-07-26T19:31:04.999124Z",
     "iopub.status.idle": "2022-07-26T19:31:05.015211Z",
     "shell.execute_reply": "2022-07-26T19:31:05.013581Z",
     "shell.execute_reply.started": "2022-07-26T19:31:04.999699Z"
    },
    "tags": []
   },
   "outputs": [
    {
     "data": {
      "text/plain": [
       "{'seq_mode': 'PE',\n",
       " 'samples': ['Hi-C_auxin-2days_rep1',\n",
       "  'Hi-C_auxin-2days_rep2',\n",
       "  'Hi-C_untreated_rep1',\n",
       "  'Hi-C_untreated_rep2',\n",
       "  'Hi-C_washoff-2days_rep1',\n",
       "  'Hi-C_washoff-2days_rep2',\n",
       "  'SRR400264_00',\n",
       "  'SRR400264_01'],\n",
       " 'thread': 20,\n",
       " 'bowtie2_index': '/lustre1/chengqiyi_pkuhpc/zhaohn/1.database/db_genomes/genome_fa/genome_ucsc_mm39/genome_ucsc_mm39.fa.bowtie2_index',\n",
       " 'bowtie2_params_global': '--very-sensitive -L 30 --score-min L,-0.6,-0.2 --end-to-end --reorder',\n",
       " 'bowtie2_params_local': '--very-sensitive -L 20 --score-min L,-0.6,-0.2 --end-to-end --reorder',\n",
       " 'ligation_site': 'AAGCTAGCTT',\n",
       " 'sort_ram_per_thread': '',\n",
       " 'min_mapq': 10,\n",
       " 'bin_sizes': [1000,\n",
       "  2000,\n",
       "  5000,\n",
       "  10000,\n",
       "  20000,\n",
       "  50000,\n",
       "  100000,\n",
       "  200000,\n",
       "  500000,\n",
       "  1000000,\n",
       "  10000000,\n",
       "  50000000,\n",
       "  100000000],\n",
       " 'chr_sizes': 'program/HiC-Pro_3.1.0/annotation/chrom_mm39.sizes'}"
      ]
     },
     "execution_count": 54,
     "metadata": {},
     "output_type": "execute_result"
    }
   ],
   "source": [
    "dt = {\n",
    "    \"seq_mode\": end_type,\n",
    "    \"samples\": ls_sample,\n",
    "    \"thread\": thread,\n",
    "    \"bowtie2_index\": bowtie2_index,\n",
    "    \"bowtie2_params_global\": bowtie2_params_global,\n",
    "    \"bowtie2_params_local\": bowtie2_params_local,\n",
    "    \"ligation_site\": ligation_site,\n",
    "    \"sort_ram_per_thread\": sort_ram_per_thread,\n",
    "    \"min_mapq\": min_mapq,\n",
    "    \"bin_sizes\": bin_sizes,\n",
    "    \"chr_sizes\": chr_sizes,\n",
    "}\n",
    "dt"
   ]
  },
  {
   "cell_type": "code",
   "execution_count": 55,
   "id": "ad8ff845-a543-40ca-b613-867d938038b1",
   "metadata": {
    "execution": {
     "iopub.execute_input": "2022-07-26T19:31:10.203976Z",
     "iopub.status.busy": "2022-07-26T19:31:10.203344Z",
     "iopub.status.idle": "2022-07-26T19:31:10.214447Z",
     "shell.execute_reply": "2022-07-26T19:31:10.212722Z",
     "shell.execute_reply.started": "2022-07-26T19:31:10.203922Z"
    },
    "tags": []
   },
   "outputs": [],
   "source": [
    "with open(\"./samples.json\", \"wt\") as f:\n",
    "    f.write(json.dumps(dt))"
   ]
  },
  {
   "cell_type": "code",
   "execution_count": null,
   "id": "e75c3ba6-c864-4985-8e9c-f6fa68e4864e",
   "metadata": {},
   "outputs": [],
   "source": []
  }
 ],
 "metadata": {
  "kernelspec": {
   "display_name": "Python 3 (ipykernel)",
   "language": "python",
   "name": "python3"
  },
  "language_info": {
   "codemirror_mode": {
    "name": "ipython",
    "version": 3
   },
   "file_extension": ".py",
   "mimetype": "text/x-python",
   "name": "python",
   "nbconvert_exporter": "python",
   "pygments_lexer": "ipython3",
   "version": "3.9.13"
  }
 },
 "nbformat": 4,
 "nbformat_minor": 5
}
