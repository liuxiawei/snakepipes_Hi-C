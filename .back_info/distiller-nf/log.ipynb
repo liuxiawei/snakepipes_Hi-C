{
 "cells": [
  {
   "cell_type": "markdown",
   "metadata": {},
   "source": [
    "# start new project\n",
    "```\n",
    "mamba install -y nextflow\n",
    "\n",
    "\n",
    "nextflow clone open2c/distiller-nf ./\n",
    "\n",
    "\n",
    "\n",
    "# run nextflow\n",
    "cd /home/chengqiyi_pkuhpc\n",
    "nextflow run /lustre1/chengqiyi_pkuhpc/zhaohn/3.project/2021_DdCBE_topic/20211030_Hi-C_test/test_distiller-nf/distiller-nf/distiller.nf -params-file /lustre1/chengqiyi_pkuhpc/zhaohn/3.project/2021_DdCBE_topic/20211030_Hi-C_test/test_distiller-nf/distiller-nf/project.yml\n",
    "```"
   ]
  },
  {
   "cell_type": "code",
   "execution_count": null,
   "metadata": {},
   "outputs": [],
   "source": []
  }
 ],
 "metadata": {
  "kernelspec": {
   "display_name": "Python 3 (ipykernel)",
   "language": "python",
   "name": "python3"
  },
  "language_info": {
   "codemirror_mode": {
    "name": "ipython",
    "version": 3
   },
   "file_extension": ".py",
   "mimetype": "text/x-python",
   "name": "python",
   "nbconvert_exporter": "python",
   "pygments_lexer": "ipython3",
   "version": "3.9.7"
  }
 },
 "nbformat": 4,
 "nbformat_minor": 4
}
